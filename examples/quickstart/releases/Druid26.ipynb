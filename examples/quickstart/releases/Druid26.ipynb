{
 "cells": [
  {
   "attachments": {},
   "cell_type": "markdown",
   "id": "e4a4ffd8-8aa5-4b6e-b60a-f4ef14049c46",
   "metadata": {},
   "source": [
    "## Druid 26.0 release notebook"
   ]
  },
  {
   "attachments": {},
   "cell_type": "markdown",
   "id": "3a008975-3100-417b-8ddc-623857d5ad6a",
   "metadata": {
    "tags": []
   },
   "source": [
    "## Mixing code and content"
   ]
  },
  {
   "cell_type": "code",
   "execution_count": null,
   "id": "18cc6a82-0167-423c-b14d-01c36ac2733d",
   "metadata": {
    "tags": []
   },
   "outputs": [],
   "source": [
    "# What's the current version of Druid?\n",
    "import requests\n",
    "\n",
    "druid_host = \"http://localhost:8888\"\n",
    "session = requests.Session()\n",
    "endpoint = druid_host + '/status'\n",
    "response = session.get(endpoint)\n",
    "json = response.json()\n",
    "print(\"Running on Druid version: \"+ json[\"version\"])"
   ]
  },
  {
   "attachments": {},
   "cell_type": "markdown",
   "id": "c39b6caf-e08a-41c0-9021-12ee270023c1",
   "metadata": {
    "tags": []
   },
   "source": [
    "## Schema auto-discovery\n",
    "\n",
    "### What would happen in the past if we just load this data?\n"
   ]
  },
  {
   "cell_type": "code",
   "execution_count": null,
   "id": "45595147-4761-49d3-97f4-ce78e81fa3ce",
   "metadata": {
    "tags": []
   },
   "outputs": [],
   "source": [
    "# Sample file /Users/will.xu/projects/data_gen\n",
    "import pandas as pd\n",
    "df = pd.read_parquet('/Users/will.xu/projects/data_gen/products.parquet.gzip')\n",
    "df.head()"
   ]
  },
  {
   "attachments": {},
   "cell_type": "markdown",
   "id": "ed097d18-4e5a-4dca-848e-b1f2bb801d59",
   "metadata": {},
   "source": [
    "#### \"unit_price\" would be loaded as a string, and this makes things like SUM(unit_price) extra slow"
   ]
  },
  {
   "cell_type": "code",
   "execution_count": null,
   "id": "ee16e5bc-7e7a-4da5-9816-99d161100522",
   "metadata": {
    "tags": []
   },
   "outputs": [],
   "source": [
    "import json\n",
    "from IPython.display import JSON\n",
    "with open('ingest_01.json','r') as f:  \n",
    "    json_data = json.load(f)\n",
    "\n",
    "JSON(json_data,expanded=True)\n",
    "\n",
    "#endpoint = druid_host + '/druid/indexer/v1/task/'\n",
    "#response = session.post(endpoint,json = json_data)"
   ]
  },
  {
   "cell_type": "code",
   "execution_count": null,
   "id": "7d3bc513-8215-4299-9bf4-135ec65cae98",
   "metadata": {
    "tags": []
   },
   "outputs": [],
   "source": [
    "import pandas as pd\n",
    "endpoint = druid_host + '/druid/v2/sql'\n",
    "sql = '''\n",
    "SELECT *\n",
    "FROM \"INFORMATION_SCHEMA\".\"COLUMNS\"\n",
    "WHERE  \"TABLE_NAME\" = 'product_test'\n",
    "'''\n",
    "sql_request = {'query': sql}\n",
    "json_data = session.post(endpoint, json=sql_request).json()\n",
    "result_df = pd.json_normalize(json_data)\n",
    "result_df.head()"
   ]
  },
  {
   "attachments": {},
   "cell_type": "markdown",
   "id": "226c8675-8fa5-44a4-bd00-d49f19026d44",
   "metadata": {
    "tags": []
   },
   "source": [
    "## String dictionary front-coded compression\n",
    "\n",
    "How to make Druid data size substentially smaller"
   ]
  },
  {
   "cell_type": "code",
   "execution_count": null,
   "id": "ccfff96c-2986-4d0b-938f-d47efbd1152f",
   "metadata": {
    "tags": []
   },
   "outputs": [],
   "source": [
    "data_size = {\"auto\": 4.75, \"auto with front-coded\": 4.13, \"fixed\":3.75, \"fixed with front-coded\":3.35}\n",
    "method = list(data_size.keys())\n",
    "values = list(data_size.values())\n",
    "import matplotlib.pyplot as plt\n",
    "plt.bar(method, values, data = data_size, color = \"lightblue\")\n",
    "plt.xlabel(\"Methods\")\n",
    "plt.ylabel(\"Data size (GB)\")\n",
    "plt.title(\"Dictionary compression vs. various formats\")\n",
    "plt.ylim([0, 5])\n",
    "\n",
    "\n",
    "plt.show()"
   ]
  },
  {
   "attachments": {},
   "cell_type": "markdown",
   "id": "08a3b808-e138-47c7-b7f1-e3a6c9f3bad3",
   "metadata": {},
   "source": [
    "# Shuffle join\n",
    "\n",
    "### Make it really easy to denormalize data as part of ingestion"
   ]
  },
  {
   "cell_type": "code",
   "execution_count": null,
   "id": "80ddc16e-d077-421b-add4-a2309a2691b3",
   "metadata": {
    "tags": []
   },
   "outputs": [],
   "source": [
    "# Sample file /Users/will.xu/projects/data_gen\n",
    "import pandas as pd\n",
    "df = pd.read_parquet('/Users/will.xu/projects/data_gen/users.parquet.gzip')\n",
    "df.head()"
   ]
  },
  {
   "cell_type": "code",
   "execution_count": null,
   "id": "8ae26fd6-0115-4cb4-83d1-67c6153abe14",
   "metadata": {
    "tags": []
   },
   "outputs": [],
   "source": [
    "# Sample file /Users/will.xu/projects/data_gen\n",
    "import pandas as pd\n",
    "df = pd.read_parquet('/Users/will.xu/projects/data_gen/transaction.parquet.gzip')\n",
    "df.head()"
   ]
  },
  {
   "attachments": {},
   "cell_type": "markdown",
   "id": "f532a798-36e5-4868-b05d-ddfa23f72dc7",
   "metadata": {},
   "source": [
    "#### Before the support of shuffle join, you'll need to use another tool to prepare the data then ingest into Druid\n",
    "#### With shuffle join support, you'll just need to run 1 query!"
   ]
  },
  {
   "cell_type": "code",
   "execution_count": null,
   "id": "0dc81a51-0160-4cd6-bd97-6abf60a6e7d6",
   "metadata": {
    "tags": []
   },
   "outputs": [],
   "source": [
    "query = '''REPLACE INTO \"order_transaction3\" OVERWRITE ALL\n",
    "WITH \"users\" AS (SELECT *\n",
    "FROM TABLE(\n",
    "  EXTERN(\n",
    "    '{\"type\":\"local\",\"baseDir\":\"/Users/will.xu/projects/data_gen/users.parquet.gzip\",\"filter\":\"*\"}',\n",
    "    '{\"type\":\"parquet\"}',\n",
    "    '[{\"name\":\"user_id\",\"type\":\"long\"},{\"name\":\"name\",\"type\":\"string\"},{\"name\":\"email\",\"type\":\"string\"},{\"name\":\"username\",\"type\":\"string\"}]'\n",
    "  )\n",
    ")),\n",
    "\"transactions\" AS (SELECT *\n",
    "FROM TABLE(\n",
    "  EXTERN(\n",
    "    '{\"type\":\"local\",\"baseDir\":\"/Users/will.xu/projects/data_gen/transaction.parquet.gzip\",\"filter\":\"*\"}',\n",
    "    '{\"type\":\"parquet\"}',\n",
    "    '[{\"name\":\"quantity\",\"type\":\"long\"},{\"name\":\"total_price\",\"type\":\"double\"},{\"name\":\"user_id\",\"type\":\"long\"},{\"name\":\"product_id\",\"type\":\"long\"},{\"name\":\"unit_price\",\"type\":\"double\"},{\"name\":\"timestamp\",\"type\":\"long\"}]'\n",
    "  )\n",
    ")),\n",
    "\"products\" AS (SELECT *\n",
    "FROM TABLE(\n",
    "  EXTERN(\n",
    "    '{\"type\":\"local\",\"baseDir\":\"/Users/will.xu/projects/data_gen/products.parquet.gzip\",\"filter\":\"*\"}',\n",
    "    '{\"type\":\"parquet\"}',\n",
    "    '[{\"name\":\"unit_price\",\"type\":\"double\"},{\"name\":\"product_name\",\"type\":\"string\"},{\"name\":\"prod_id\",\"type\":\"long\"}]'\n",
    "  )\n",
    "))\n",
    "\n",
    "SELECT\n",
    "  MILLIS_TO_TIMESTAMP(\"timestamp\" * 1000) AS \"__time\",\n",
    "  \"products\".\"product_name\",\n",
    "  \"users\".\"name\",\n",
    "  \"users\".\"email\",\n",
    "  \"quantity\",\n",
    "  \"total_price\",\n",
    "  \"transactions\".\"user_id\",\n",
    "  \"product_id\",\n",
    "  \"products\".\"unit_price\"\n",
    "FROM \"transactions\"\n",
    "LEFT JOIN \"products\" ON\n",
    "\"products\".\"prod_id\" = \"transactions\".\"product_id\"\n",
    "LEFT JOIN \"users\" ON\n",
    "\"users\".\"user_id\" = \"transactions\".\"user_id\"\n",
    "PARTITIONED BY DAY\n",
    "'''"
   ]
  },
  {
   "attachments": {},
   "cell_type": "markdown",
   "id": "e10df053-2729-4e2c-ac4a-3c8d0c070dc0",
   "metadata": {},
   "source": [
    "### Let's watch the ingestion task running..."
   ]
  },
  {
   "cell_type": "code",
   "execution_count": null,
   "id": "9d302e43-9f14-4d19-b286-7a3cbc448470",
   "metadata": {
    "tags": []
   },
   "outputs": [],
   "source": [
    "sql_request={'query': query}\n",
    "endpoint = druid_host + '/druid/v2/sql/task'\n",
    "response = session.post(endpoint, json=sql_request)"
   ]
  },
  {
   "cell_type": "code",
   "execution_count": null,
   "id": "eadf05f7-bc0a-4a29-981d-d8bc5fd72314",
   "metadata": {
    "tags": []
   },
   "outputs": [],
   "source": [
    "ingestion_taskId = response.json()['taskId']\n",
    "endpoint = druid_host + f\"/druid/indexer/v1/task/{ingestion_taskId}/status\"\n",
    "import time\n",
    "\n",
    "json = session.get(endpoint).json()\n",
    "ingestion_status = json['status']['status']\n",
    " \n",
    "if ingestion_status == \"RUNNING\":\n",
    "    print(\"The ingestion is running...\")\n",
    "\n",
    "while ingestion_status != \"SUCCESS\":\n",
    "    time.sleep(1)\n",
    "    json = session.get(endpoint).json()\n",
    "    ingestion_status = json['status']['status']\n",
    "    print('.', end='')\n",
    "\n",
    "if ingestion_status == \"SUCCESS\": \n",
    "    print(\"\\nThe ingestion is complete\")\n",
    "else:\n",
    "    print(\"\\nThe ingestion task failed:\", json)\n"
   ]
  },
  {
   "attachments": {},
   "cell_type": "markdown",
   "id": "10417469-b2f7-4a56-bd4f-fddc0277c3c9",
   "metadata": {},
   "source": [
    "### Note I didn't use any other tools, this is all done within Druid. No need for using Spark/Presto for data prep"
   ]
  },
  {
   "attachments": {},
   "cell_type": "markdown",
   "id": "7b134ef2-e3ef-4345-94c8-64cf36f6adfe",
   "metadata": {
    "tags": []
   },
   "source": [
    "## UNNEST and Arrays"
   ]
  },
  {
   "cell_type": "code",
   "execution_count": null,
   "id": "434602dd-d62b-476f-b18f-4a3fa23ff70e",
   "metadata": {
    "tags": []
   },
   "outputs": [],
   "source": [
    "import pandas as pd\n",
    "endpoint = druid_host + '/druid/v2/sql'\n",
    "sql = '''\n",
    "SELECT 'post_id_123' AS \"POST_ID\", ARRAY['almond','blue_berry','muffin'] as \"Tags\"\n",
    "'''\n",
    "sql_request = {'query': sql}\n",
    "json_data = session.post(endpoint, json=sql_request).json()\n",
    "result_df = pd.json_normalize(json_data)\n",
    "result_df.head()"
   ]
  },
  {
   "cell_type": "code",
   "execution_count": null,
   "id": "3b7d80ad-e7a0-4e4b-a926-177112dc9c93",
   "metadata": {
    "tags": []
   },
   "outputs": [],
   "source": [
    "import pandas as pd\n",
    "endpoint = druid_host + '/druid/v2/sql'\n",
    "sql = '''SELECT 'post_id_123' as \"POST_ID\", * FROM UNNEST(ARRAY['almond','blue_berry','muffin']) \n",
    "'''\n",
    "sql_request = {'query': sql, 'context':{'enableUnnest': 'true'}}\n",
    "json_data = session.post(endpoint, json=sql_request).json()\n",
    "JSON(json_data)\n",
    "result_df = pd.json_normalize(json_data)\n",
    "result_df.head()"
   ]
  },
  {
   "cell_type": "code",
   "execution_count": null,
   "id": "b35e631b-511b-4ccb-9207-b039a9609624",
   "metadata": {
    "jupyter": {
     "source_hidden": true
    }
   },
   "outputs": [],
   "source": []
  }
 ],
 "metadata": {
  "kernelspec": {
   "display_name": "Python 3 (ipykernel)",
   "language": "python",
   "name": "python3"
  },
  "language_info": {
   "codemirror_mode": {
    "name": "ipython",
    "version": 3
   },
   "file_extension": ".py",
   "mimetype": "text/x-python",
   "name": "python",
   "nbconvert_exporter": "python",
   "pygments_lexer": "ipython3",
   "version": "3.11.3"
  }
 },
 "nbformat": 4,
 "nbformat_minor": 5
}
