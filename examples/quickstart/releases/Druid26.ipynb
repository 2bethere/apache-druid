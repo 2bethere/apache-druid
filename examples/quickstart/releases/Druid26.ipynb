{
 "cells": [
  {
   "attachments": {},
   "cell_type": "markdown",
   "id": "e4a4ffd8-8aa5-4b6e-b60a-f4ef14049c46",
   "metadata": {},
   "source": [
    "## Druid 26.0 release notebook"
   ]
  },
  {
   "attachments": {},
   "cell_type": "markdown",
   "id": "3a008975-3100-417b-8ddc-623857d5ad6a",
   "metadata": {
    "tags": []
   },
   "source": [
    "You'll need the following dependencies:\n",
    "\n",
    "pandas, requests"
   ]
  },
  {
   "cell_type": "code",
   "execution_count": 11,
   "id": "18cc6a82-0167-423c-b14d-01c36ac2733d",
   "metadata": {
    "tags": []
   },
   "outputs": [
    {
     "name": "stdout",
     "output_type": "stream",
     "text": [
      "Running on Druid version: 26.0.0\n"
     ]
    }
   ],
   "source": [
    "# What's the current version of Druid?\n",
    "import requests\n",
    "\n",
    "druid_host = \"http://localhost:8888\"\n",
    "session = requests.Session()\n",
    "endpoint = druid_host + '/status'\n",
    "response = session.get(endpoint)\n",
    "json = response.json()\n",
    "print(\"Running on Druid version: \"+ json[\"version\"])"
   ]
  },
  {
   "attachments": {},
   "cell_type": "markdown",
   "id": "c39b6caf-e08a-41c0-9021-12ee270023c1",
   "metadata": {
    "tags": []
   },
   "source": [
    "## Schema auto-discovery\n",
    "\n",
    "### What would happen in the past if we just load this data?\n"
   ]
  },
  {
   "cell_type": "code",
   "execution_count": 24,
   "id": "ee16e5bc-7e7a-4da5-9816-99d161100522",
   "metadata": {
    "tags": []
   },
   "outputs": [],
   "source": [
    "import json\n",
    "from IPython.display import JSON\n",
    "ingestion_spec = {\n",
    "  \"type\": \"index_parallel\",\n",
    "  \"spec\": {\n",
    "    \"ioConfig\": {\n",
    "      \"type\": \"index_parallel\",\n",
    "      \"inputSource\": {\n",
    "        \"type\": \"http\",\n",
    "        \"uris\": [\"https://druid.apache.org/data/wikipedia.json.gz\"],\n",
    "        \"filter\": \"*\"\n",
    "      },\n",
    "      \"inputFormat\": {\n",
    "        \"type\": \"json\"\n",
    "      }\n",
    "    },\n",
    "    \"tuningConfig\": {\n",
    "      \"type\": \"index_parallel\",\n",
    "      \"partitionsSpec\": {\n",
    "        \"type\": \"dynamic\"\n",
    "      },\n",
    "      \"indexSpec\": {\n",
    "        \"stringDictionaryEncoding\": {\n",
    "          \"type\": \"frontCoded\",\n",
    "          \"bucketSize\": 16\n",
    "        }\n",
    "      }\n",
    "    },\n",
    "    \"dataSchema\": {\n",
    "      \"dataSource\": \"wikipedia\",\n",
    "      \"timestampSpec\": {\n",
    "        \"missingValue\": \"2010-01-01T00:00:00Z\"\n",
    "      },\n",
    "      \"dimensionsSpec\": {\n",
    "        \"dimensions\": [],\n",
    "        \"dimensionExclusions\": [],\n",
    "        \"spatialDimensions\": [],\n",
    "        \"useSchemaDiscovery\": True\n",
    "      },\n",
    "      \"granularitySpec\": {\n",
    "        \"queryGranularity\": \"none\",\n",
    "        \"rollup\": False\n",
    "      }\n",
    "    }\n",
    "  }\n",
    "}\n",
    "\n",
    "JSON(ingestion_spec,expanded=True)\n",
    "\n",
    "endpoint = druid_host + '/druid/indexer/v1/task/'\n",
    "response = session.post(endpoint,json = ingestion_spec)\n"
   ]
  },
  {
   "attachments": {},
   "cell_type": "markdown",
   "id": "2617af1b",
   "metadata": {},
   "source": [
    "Note that because we've set `\"useSchemaDiscovery\": True` in the ingestion spec, even though we didn't specify any data types for the columns, they are correctly inferred. Look at the code example below:"
   ]
  },
  {
   "cell_type": "code",
   "execution_count": 28,
   "id": "7d3bc513-8215-4299-9bf4-135ec65cae98",
   "metadata": {
    "tags": []
   },
   "outputs": [
    {
     "data": {
      "text/html": [
       "<div>\n",
       "<style scoped>\n",
       "    .dataframe tbody tr th:only-of-type {\n",
       "        vertical-align: middle;\n",
       "    }\n",
       "\n",
       "    .dataframe tbody tr th {\n",
       "        vertical-align: top;\n",
       "    }\n",
       "\n",
       "    .dataframe thead th {\n",
       "        text-align: right;\n",
       "    }\n",
       "</style>\n",
       "<table border=\"1\" class=\"dataframe\">\n",
       "  <thead>\n",
       "    <tr style=\"text-align: right;\">\n",
       "      <th></th>\n",
       "      <th>TABLE_CATALOG</th>\n",
       "      <th>TABLE_SCHEMA</th>\n",
       "      <th>TABLE_NAME</th>\n",
       "      <th>COLUMN_NAME</th>\n",
       "      <th>ORDINAL_POSITION</th>\n",
       "      <th>COLUMN_DEFAULT</th>\n",
       "      <th>IS_NULLABLE</th>\n",
       "      <th>DATA_TYPE</th>\n",
       "      <th>CHARACTER_MAXIMUM_LENGTH</th>\n",
       "      <th>CHARACTER_OCTET_LENGTH</th>\n",
       "      <th>NUMERIC_PRECISION</th>\n",
       "      <th>NUMERIC_PRECISION_RADIX</th>\n",
       "      <th>NUMERIC_SCALE</th>\n",
       "      <th>DATETIME_PRECISION</th>\n",
       "      <th>CHARACTER_SET_NAME</th>\n",
       "      <th>COLLATION_NAME</th>\n",
       "      <th>JDBC_TYPE</th>\n",
       "    </tr>\n",
       "  </thead>\n",
       "  <tbody>\n",
       "    <tr>\n",
       "      <th>0</th>\n",
       "      <td>druid</td>\n",
       "      <td>druid</td>\n",
       "      <td>wikipedia</td>\n",
       "      <td>__time</td>\n",
       "      <td>1</td>\n",
       "      <td></td>\n",
       "      <td>NO</td>\n",
       "      <td>TIMESTAMP</td>\n",
       "      <td>None</td>\n",
       "      <td>None</td>\n",
       "      <td>NaN</td>\n",
       "      <td>NaN</td>\n",
       "      <td>NaN</td>\n",
       "      <td>3.0</td>\n",
       "      <td>None</td>\n",
       "      <td>None</td>\n",
       "      <td>93</td>\n",
       "    </tr>\n",
       "    <tr>\n",
       "      <th>1</th>\n",
       "      <td>druid</td>\n",
       "      <td>druid</td>\n",
       "      <td>wikipedia</td>\n",
       "      <td>isRobot</td>\n",
       "      <td>2</td>\n",
       "      <td></td>\n",
       "      <td>NO</td>\n",
       "      <td>BIGINT</td>\n",
       "      <td>None</td>\n",
       "      <td>None</td>\n",
       "      <td>19.0</td>\n",
       "      <td>10.0</td>\n",
       "      <td>0.0</td>\n",
       "      <td>NaN</td>\n",
       "      <td>None</td>\n",
       "      <td>None</td>\n",
       "      <td>-5</td>\n",
       "    </tr>\n",
       "    <tr>\n",
       "      <th>2</th>\n",
       "      <td>druid</td>\n",
       "      <td>druid</td>\n",
       "      <td>wikipedia</td>\n",
       "      <td>channel</td>\n",
       "      <td>3</td>\n",
       "      <td></td>\n",
       "      <td>YES</td>\n",
       "      <td>VARCHAR</td>\n",
       "      <td>None</td>\n",
       "      <td>None</td>\n",
       "      <td>NaN</td>\n",
       "      <td>NaN</td>\n",
       "      <td>NaN</td>\n",
       "      <td>NaN</td>\n",
       "      <td>UTF-16LE</td>\n",
       "      <td>UTF-16LE$en_US$primary</td>\n",
       "      <td>12</td>\n",
       "    </tr>\n",
       "    <tr>\n",
       "      <th>3</th>\n",
       "      <td>druid</td>\n",
       "      <td>druid</td>\n",
       "      <td>wikipedia</td>\n",
       "      <td>flags</td>\n",
       "      <td>4</td>\n",
       "      <td></td>\n",
       "      <td>YES</td>\n",
       "      <td>VARCHAR</td>\n",
       "      <td>None</td>\n",
       "      <td>None</td>\n",
       "      <td>NaN</td>\n",
       "      <td>NaN</td>\n",
       "      <td>NaN</td>\n",
       "      <td>NaN</td>\n",
       "      <td>UTF-16LE</td>\n",
       "      <td>UTF-16LE$en_US$primary</td>\n",
       "      <td>12</td>\n",
       "    </tr>\n",
       "    <tr>\n",
       "      <th>4</th>\n",
       "      <td>druid</td>\n",
       "      <td>druid</td>\n",
       "      <td>wikipedia</td>\n",
       "      <td>isUnpatrolled</td>\n",
       "      <td>5</td>\n",
       "      <td></td>\n",
       "      <td>NO</td>\n",
       "      <td>BIGINT</td>\n",
       "      <td>None</td>\n",
       "      <td>None</td>\n",
       "      <td>19.0</td>\n",
       "      <td>10.0</td>\n",
       "      <td>0.0</td>\n",
       "      <td>NaN</td>\n",
       "      <td>None</td>\n",
       "      <td>None</td>\n",
       "      <td>-5</td>\n",
       "    </tr>\n",
       "  </tbody>\n",
       "</table>\n",
       "</div>"
      ],
      "text/plain": [
       "  TABLE_CATALOG TABLE_SCHEMA TABLE_NAME    COLUMN_NAME  ORDINAL_POSITION  \\\n",
       "0         druid        druid  wikipedia         __time                 1   \n",
       "1         druid        druid  wikipedia        isRobot                 2   \n",
       "2         druid        druid  wikipedia        channel                 3   \n",
       "3         druid        druid  wikipedia          flags                 4   \n",
       "4         druid        druid  wikipedia  isUnpatrolled                 5   \n",
       "\n",
       "  COLUMN_DEFAULT IS_NULLABLE  DATA_TYPE CHARACTER_MAXIMUM_LENGTH  \\\n",
       "0                         NO  TIMESTAMP                     None   \n",
       "1                         NO     BIGINT                     None   \n",
       "2                        YES    VARCHAR                     None   \n",
       "3                        YES    VARCHAR                     None   \n",
       "4                         NO     BIGINT                     None   \n",
       "\n",
       "  CHARACTER_OCTET_LENGTH  NUMERIC_PRECISION  NUMERIC_PRECISION_RADIX  \\\n",
       "0                   None                NaN                      NaN   \n",
       "1                   None               19.0                     10.0   \n",
       "2                   None                NaN                      NaN   \n",
       "3                   None                NaN                      NaN   \n",
       "4                   None               19.0                     10.0   \n",
       "\n",
       "   NUMERIC_SCALE  DATETIME_PRECISION CHARACTER_SET_NAME  \\\n",
       "0            NaN                 3.0               None   \n",
       "1            0.0                 NaN               None   \n",
       "2            NaN                 NaN           UTF-16LE   \n",
       "3            NaN                 NaN           UTF-16LE   \n",
       "4            0.0                 NaN               None   \n",
       "\n",
       "           COLLATION_NAME  JDBC_TYPE  \n",
       "0                    None         93  \n",
       "1                    None         -5  \n",
       "2  UTF-16LE$en_US$primary         12  \n",
       "3  UTF-16LE$en_US$primary         12  \n",
       "4                    None         -5  "
      ]
     },
     "execution_count": 28,
     "metadata": {},
     "output_type": "execute_result"
    }
   ],
   "source": [
    "import pandas as pd\n",
    "endpoint = druid_host + '/druid/v2/sql'\n",
    "sql = '''\n",
    "SELECT *\n",
    "FROM \"INFORMATION_SCHEMA\".\"COLUMNS\"\n",
    "WHERE  \"TABLE_NAME\" = 'wikipedia'\n",
    "'''\n",
    "sql_request = {'query': sql}\n",
    "json_data = session.post(endpoint, json=sql_request).json()\n",
    "result_df = pd.json_normalize(json_data)\n",
    "result_df.head()"
   ]
  },
  {
   "attachments": {},
   "cell_type": "markdown",
   "id": "483c67d7",
   "metadata": {},
   "source": [
    "As you can see, in `DATA_TYPE` column, different data types are correctly detected and not everything are stored as `strings`."
   ]
  },
  {
   "attachments": {},
   "cell_type": "markdown",
   "id": "08a3b808-e138-47c7-b7f1-e3a6c9f3bad3",
   "metadata": {},
   "source": [
    "# Shuffle join\n",
    "\n",
    "### Make it really easy to denormalize data as part of ingestion\n",
    "Before the support of shuffle join, you'll need to use another tool to prepare the data then ingest into Druid. With shuffle join support, you can do the same transformation with one query."
   ]
  },
  {
   "cell_type": "code",
   "execution_count": null,
   "id": "0dc81a51-0160-4cd6-bd97-6abf60a6e7d6",
   "metadata": {
    "tags": []
   },
   "outputs": [],
   "source": [
    "query = '''REPLACE INTO \"order_transaction3\" OVERWRITE ALL\n",
    "WITH \"users\" AS (SELECT *\n",
    "FROM TABLE(\n",
    "  EXTERN(\n",
    "    '{\"type\":\"http\",\"uris\":\"/Users/will.xu/projects/data_gen/users.parquet.gzip\",\"filter\":\"*\"}',\n",
    "    '{\"type\":\"parquet\"}',\n",
    "    '[{\"name\":\"user_id\",\"type\":\"long\"},{\"name\":\"name\",\"type\":\"string\"},{\"name\":\"email\",\"type\":\"string\"},{\"name\":\"username\",\"type\":\"string\"}]'\n",
    "  )\n",
    ")),\n",
    "\"transactions\" AS (SELECT *\n",
    "FROM TABLE(\n",
    "  EXTERN(\n",
    "    '{\"type\":\"local\",\"baseDir\":\"/Users/will.xu/projects/data_gen/transaction.parquet.gzip\",\"filter\":\"*\"}',\n",
    "    '{\"type\":\"parquet\"}',\n",
    "    '[{\"name\":\"quantity\",\"type\":\"long\"},{\"name\":\"total_price\",\"type\":\"double\"},{\"name\":\"user_id\",\"type\":\"long\"},{\"name\":\"product_id\",\"type\":\"long\"},{\"name\":\"unit_price\",\"type\":\"double\"},{\"name\":\"timestamp\",\"type\":\"long\"}]'\n",
    "  )\n",
    ")),\n",
    "\"products\" AS (SELECT *\n",
    "FROM TABLE(\n",
    "  EXTERN(\n",
    "    '{\"type\":\"local\",\"baseDir\":\"/Users/will.xu/projects/data_gen/products.parquet.gzip\",\"filter\":\"*\"}',\n",
    "    '{\"type\":\"parquet\"}',\n",
    "    '[{\"name\":\"unit_price\",\"type\":\"double\"},{\"name\":\"product_name\",\"type\":\"string\"},{\"name\":\"prod_id\",\"type\":\"long\"}]'\n",
    "  )\n",
    "))\n",
    "\n",
    "SELECT\n",
    "  MILLIS_TO_TIMESTAMP(\"timestamp\" * 1000) AS \"__time\",\n",
    "  \"products\".\"product_name\",\n",
    "  \"users\".\"name\",\n",
    "  \"users\".\"email\",\n",
    "  \"quantity\",\n",
    "  \"total_price\",\n",
    "  \"transactions\".\"user_id\",\n",
    "  \"product_id\",\n",
    "  \"products\".\"unit_price\"\n",
    "FROM \"transactions\"\n",
    "LEFT JOIN \"products\" ON\n",
    "\"products\".\"prod_id\" = \"transactions\".\"product_id\"\n",
    "LEFT JOIN \"users\" ON\n",
    "\"users\".\"user_id\" = \"transactions\".\"user_id\"\n",
    "PARTITIONED BY DAY\n",
    "'''"
   ]
  },
  {
   "attachments": {},
   "cell_type": "markdown",
   "id": "e10df053-2729-4e2c-ac4a-3c8d0c070dc0",
   "metadata": {},
   "source": [
    "### Let's watch the ingestion task running..."
   ]
  },
  {
   "cell_type": "code",
   "execution_count": 32,
   "id": "9d302e43-9f14-4d19-b286-7a3cbc448470",
   "metadata": {
    "tags": []
   },
   "outputs": [
    {
     "ename": "NameError",
     "evalue": "name 'query' is not defined",
     "output_type": "error",
     "traceback": [
      "\u001b[1;31m---------------------------------------------------------------------------\u001b[0m",
      "\u001b[1;31mNameError\u001b[0m                                 Traceback (most recent call last)",
      "Cell \u001b[1;32mIn[32], line 1\u001b[0m\n\u001b[1;32m----> 1\u001b[0m sql_request\u001b[39m=\u001b[39m{\u001b[39m'\u001b[39m\u001b[39mquery\u001b[39m\u001b[39m'\u001b[39m: query}\n\u001b[0;32m      2\u001b[0m endpoint \u001b[39m=\u001b[39m druid_host \u001b[39m+\u001b[39m \u001b[39m'\u001b[39m\u001b[39m/druid/v2/sql/task\u001b[39m\u001b[39m'\u001b[39m\n\u001b[0;32m      3\u001b[0m response \u001b[39m=\u001b[39m session\u001b[39m.\u001b[39mpost(endpoint, json\u001b[39m=\u001b[39msql_request)\n",
      "\u001b[1;31mNameError\u001b[0m: name 'query' is not defined"
     ]
    }
   ],
   "source": [
    "sql_request={'query': query}\n",
    "endpoint = druid_host + '/druid/v2/sql/task'\n",
    "response = session.post(endpoint, json=sql_request)"
   ]
  },
  {
   "cell_type": "code",
   "execution_count": 33,
   "id": "eadf05f7-bc0a-4a29-981d-d8bc5fd72314",
   "metadata": {
    "tags": []
   },
   "outputs": [
    {
     "ename": "KeyError",
     "evalue": "'taskId'",
     "output_type": "error",
     "traceback": [
      "\u001b[1;31m---------------------------------------------------------------------------\u001b[0m",
      "\u001b[1;31mKeyError\u001b[0m                                  Traceback (most recent call last)",
      "Cell \u001b[1;32mIn[33], line 1\u001b[0m\n\u001b[1;32m----> 1\u001b[0m ingestion_taskId \u001b[39m=\u001b[39m response\u001b[39m.\u001b[39;49mjson()[\u001b[39m'\u001b[39;49m\u001b[39mtaskId\u001b[39;49m\u001b[39m'\u001b[39;49m]\n\u001b[0;32m      2\u001b[0m endpoint \u001b[39m=\u001b[39m druid_host \u001b[39m+\u001b[39m \u001b[39mf\u001b[39m\u001b[39m\"\u001b[39m\u001b[39m/druid/indexer/v1/task/\u001b[39m\u001b[39m{\u001b[39;00mingestion_taskId\u001b[39m}\u001b[39;00m\u001b[39m/status\u001b[39m\u001b[39m\"\u001b[39m\n\u001b[0;32m      3\u001b[0m \u001b[39mimport\u001b[39;00m \u001b[39mtime\u001b[39;00m\n",
      "\u001b[1;31mKeyError\u001b[0m: 'taskId'"
     ]
    }
   ],
   "source": [
    "ingestion_taskId = response.json()['taskId']\n",
    "endpoint = druid_host + f\"/druid/indexer/v1/task/{ingestion_taskId}/status\"\n",
    "import time\n",
    "\n",
    "json = session.get(endpoint).json()\n",
    "ingestion_status = json['status']['status']\n",
    " \n",
    "if ingestion_status == \"RUNNING\":\n",
    "    print(\"The ingestion is running...\")\n",
    "\n",
    "while ingestion_status != \"SUCCESS\":\n",
    "    time.sleep(1)\n",
    "    json = session.get(endpoint).json()\n",
    "    ingestion_status = json['status']['status']\n",
    "    print('.', end='')\n",
    "\n",
    "if ingestion_status == \"SUCCESS\": \n",
    "    print(\"\\nThe ingestion is complete\")\n",
    "else:\n",
    "    print(\"\\nThe ingestion task failed:\", json)\n"
   ]
  },
  {
   "attachments": {},
   "cell_type": "markdown",
   "id": "10417469-b2f7-4a56-bd4f-fddc0277c3c9",
   "metadata": {},
   "source": [
    "### Note I didn't use any other tools, this is all done within Druid. No need for using Spark/Presto for data prep"
   ]
  },
  {
   "attachments": {},
   "cell_type": "markdown",
   "id": "7b134ef2-e3ef-4345-94c8-64cf36f6adfe",
   "metadata": {
    "tags": []
   },
   "source": [
    "## UNNEST and Arrays\n",
    "\n",
    "UNNEST is useful to deal with Array data and allows you to \"explode\" an array into individual rows"
   ]
  },
  {
   "cell_type": "code",
   "execution_count": 30,
   "id": "434602dd-d62b-476f-b18f-4a3fa23ff70e",
   "metadata": {
    "tags": []
   },
   "outputs": [
    {
     "data": {
      "text/html": [
       "<div>\n",
       "<style scoped>\n",
       "    .dataframe tbody tr th:only-of-type {\n",
       "        vertical-align: middle;\n",
       "    }\n",
       "\n",
       "    .dataframe tbody tr th {\n",
       "        vertical-align: top;\n",
       "    }\n",
       "\n",
       "    .dataframe thead th {\n",
       "        text-align: right;\n",
       "    }\n",
       "</style>\n",
       "<table border=\"1\" class=\"dataframe\">\n",
       "  <thead>\n",
       "    <tr style=\"text-align: right;\">\n",
       "      <th></th>\n",
       "      <th>POST_ID</th>\n",
       "      <th>Tags</th>\n",
       "    </tr>\n",
       "  </thead>\n",
       "  <tbody>\n",
       "    <tr>\n",
       "      <th>0</th>\n",
       "      <td>post_id_123</td>\n",
       "      <td>[\"almond\",\"blue_berry\",\"muffin\"]</td>\n",
       "    </tr>\n",
       "  </tbody>\n",
       "</table>\n",
       "</div>"
      ],
      "text/plain": [
       "       POST_ID                              Tags\n",
       "0  post_id_123  [\"almond\",\"blue_berry\",\"muffin\"]"
      ]
     },
     "execution_count": 30,
     "metadata": {},
     "output_type": "execute_result"
    }
   ],
   "source": [
    "import pandas as pd\n",
    "endpoint = druid_host + '/druid/v2/sql'\n",
    "sql = '''\n",
    "SELECT 'post_id_123' AS \"POST_ID\", ARRAY['almond','blue_berry','muffin'] as \"Tags\"\n",
    "'''\n",
    "sql_request = {'query': sql}\n",
    "json_data = session.post(endpoint, json=sql_request).json()\n",
    "result_df = pd.json_normalize(json_data)\n",
    "result_df.head()"
   ]
  },
  {
   "cell_type": "code",
   "execution_count": 31,
   "id": "3b7d80ad-e7a0-4e4b-a926-177112dc9c93",
   "metadata": {
    "tags": []
   },
   "outputs": [
    {
     "data": {
      "text/html": [
       "<div>\n",
       "<style scoped>\n",
       "    .dataframe tbody tr th:only-of-type {\n",
       "        vertical-align: middle;\n",
       "    }\n",
       "\n",
       "    .dataframe tbody tr th {\n",
       "        vertical-align: top;\n",
       "    }\n",
       "\n",
       "    .dataframe thead th {\n",
       "        text-align: right;\n",
       "    }\n",
       "</style>\n",
       "<table border=\"1\" class=\"dataframe\">\n",
       "  <thead>\n",
       "    <tr style=\"text-align: right;\">\n",
       "      <th></th>\n",
       "      <th>POST_ID</th>\n",
       "      <th>EXPR$0</th>\n",
       "    </tr>\n",
       "  </thead>\n",
       "  <tbody>\n",
       "    <tr>\n",
       "      <th>0</th>\n",
       "      <td>post_id_123</td>\n",
       "      <td>almond</td>\n",
       "    </tr>\n",
       "    <tr>\n",
       "      <th>1</th>\n",
       "      <td>post_id_123</td>\n",
       "      <td>blue_berry</td>\n",
       "    </tr>\n",
       "    <tr>\n",
       "      <th>2</th>\n",
       "      <td>post_id_123</td>\n",
       "      <td>muffin</td>\n",
       "    </tr>\n",
       "  </tbody>\n",
       "</table>\n",
       "</div>"
      ],
      "text/plain": [
       "       POST_ID      EXPR$0\n",
       "0  post_id_123      almond\n",
       "1  post_id_123  blue_berry\n",
       "2  post_id_123      muffin"
      ]
     },
     "execution_count": 31,
     "metadata": {},
     "output_type": "execute_result"
    }
   ],
   "source": [
    "import pandas as pd\n",
    "endpoint = druid_host + '/druid/v2/sql'\n",
    "sql = '''SELECT 'post_id_123' as \"POST_ID\", * FROM UNNEST(ARRAY['almond','blue_berry','muffin']) \n",
    "'''\n",
    "sql_request = {'query': sql, 'context':{'enableUnnest': 'true'}}\n",
    "json_data = session.post(endpoint, json=sql_request).json()\n",
    "JSON(json_data)\n",
    "result_df = pd.json_normalize(json_data)\n",
    "result_df.head()"
   ]
  },
  {
   "cell_type": "code",
   "execution_count": null,
   "id": "b35e631b-511b-4ccb-9207-b039a9609624",
   "metadata": {
    "jupyter": {
     "source_hidden": true
    }
   },
   "outputs": [],
   "source": []
  }
 ],
 "metadata": {
  "kernelspec": {
   "display_name": "Python 3 (ipykernel)",
   "language": "python",
   "name": "python3"
  },
  "language_info": {
   "codemirror_mode": {
    "name": "ipython",
    "version": 3
   },
   "file_extension": ".py",
   "mimetype": "text/x-python",
   "name": "python",
   "nbconvert_exporter": "python",
   "pygments_lexer": "ipython3",
   "version": "3.10.0"
  }
 },
 "nbformat": 4,
 "nbformat_minor": 5
}
